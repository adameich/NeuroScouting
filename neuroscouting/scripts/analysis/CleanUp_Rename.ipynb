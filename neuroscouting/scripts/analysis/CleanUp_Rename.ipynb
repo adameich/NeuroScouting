{
 "cells": [
  {
   "cell_type": "code",
   "execution_count": null,
   "metadata": {},
   "outputs": [],
   "source": [
    "## Functions of this notebook ##\n",
    "\n",
    "# 1. Rename the nTRs x nNodes output of the ROI Extractor function and save the output from the ROI Extractor file\n",
    "#    in an easy to access csv format. [The original .tsv output is odd and requires pandas read_table function with \n",
    "#     a delimiter of '\\s+', which is not preferred, so let's just store it as a .csv]\n"
   ]
  },
  {
   "cell_type": "code",
   "execution_count": null,
   "metadata": {},
   "outputs": [],
   "source": [
    "import numpy as np\n",
    "import scipy.stats as stats\n",
    "import pandas as pd\n",
    "import os\n",
    "import matplotlib\n",
    "import matplotlib.pyplot as plt\n",
    "%matplotlib inline"
   ]
  },
  {
   "cell_type": "code",
   "execution_count": null,
   "metadata": {},
   "outputs": [],
   "source": [
    "def get_sublist(subDir):\n",
    "    \"\"\" Lists all directories in a main directories of all subjects to create a subject list. Note that this is BIDS format specific (assumes all subject directories begin \"sub-xxx\". Could be modified.\n",
    " Return: subject list \"\"\"\n",
    "    sublist = []\n",
    "    for subnum in np.sort(os.listdir(subDir)): \n",
    "        if subnum[0:3] == 'sub': \n",
    "            if not 'html' in subnum: \n",
    "                sublist.append(subnum.split('-')[1]) \n",
    "    return sublist "
   ]
  },
  {
   "cell_type": "code",
   "execution_count": null,
   "metadata": {},
   "outputs": [],
   "source": [
    "baseDir = '/Users/Eichenbaum/HWNI/Experiments/nScout/data/derivatives/denoise_out'"
   ]
  },
  {
   "cell_type": "code",
   "execution_count": null,
   "metadata": {},
   "outputs": [],
   "source": [
    "sublist = get_sublist(baseDir)\n",
    "\n",
    "atlas = 'brainnetome' # 'brainnetome' 'Schaefer400node'\n",
    "    \n",
    "for sub in sublist:\n",
    "    for run in ['001', '002']:\n",
    "    \n",
    "        origTimeSeries_fName = '%s/sub-%s/sub-%s_task-rest_run-%s_space-MNI152NLin2009cAsym_desc-residuals_variant-24p_Acc6_009_1_bold.nii.gz_bold_%s.tsv' %(baseDir, sub, sub, run, atlas)\n",
    "\n",
    "        if os.path.isfile(origTimeSeries_fName):\n",
    "            origTimeSeries = pd.read_table(origTimeSeries_fName, header = None, sep= '\\s+')\n",
    "\n",
    "            newFName = '%s/sub-%s/sub-%s_task-rest_run-%s_space-MNI152NLin2009cAsym_desc-residuals_variant-24p_Acc6_009_1_%s_TS.csv' %(baseDir, sub, sub, run, atlas)\n",
    "            origTimeSeries.to_csv(newFName, sep = ',', index = False, header = None)\n",
    "\n",
    "            command = 'rm %s' %(origTimeSeries_fName)\n",
    "            os.system(command)\n",
    "            "
   ]
  },
  {
   "cell_type": "code",
   "execution_count": null,
   "metadata": {},
   "outputs": [],
   "source": []
  }
 ],
 "metadata": {
  "kernelspec": {
   "display_name": "Python 3",
   "language": "python",
   "name": "python3"
  },
  "language_info": {
   "codemirror_mode": {
    "name": "ipython",
    "version": 3
   },
   "file_extension": ".py",
   "mimetype": "text/x-python",
   "name": "python",
   "nbconvert_exporter": "python",
   "pygments_lexer": "ipython3",
   "version": "3.7.7"
  }
 },
 "nbformat": 4,
 "nbformat_minor": 2
}
