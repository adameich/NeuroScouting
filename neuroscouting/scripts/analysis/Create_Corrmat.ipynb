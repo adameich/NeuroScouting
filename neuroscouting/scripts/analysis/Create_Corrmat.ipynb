{
 "cells": [
  {
   "cell_type": "code",
   "execution_count": null,
   "metadata": {},
   "outputs": [],
   "source": [
    "import sys\n",
    "import os\n",
    "import numpy as np\n",
    "import pandas as pd\n",
    "import matplotlib.pyplot as plt\n",
    "import scipy.stats as stats"
   ]
  },
  {
   "cell_type": "code",
   "execution_count": null,
   "metadata": {},
   "outputs": [],
   "source": [
    "def get_sublist(subDir):\n",
    "    \"\"\" Lists all directories in a main directories of all subjects to create a subject list. Note that this is BIDS format specific (assumes all subject directories begin \"sub-xxx\". Could be modified.\n",
    " Return: subject list \"\"\"\n",
    "    sublist = []\n",
    "    for subnum in np.sort(os.listdir(subDir)): \n",
    "        if subnum[0:3] == 'sub': \n",
    "            if not 'html' in subnum: \n",
    "                sublist.append(subnum.split('-')[1]) \n",
    "    return sublist "
   ]
  },
  {
   "cell_type": "code",
   "execution_count": null,
   "metadata": {},
   "outputs": [],
   "source": [
    "baseDir = '/Users/Eichenbaum/HWNI/Experiments/nScout/data/derivatives/denoise_out'"
   ]
  },
  {
   "cell_type": "code",
   "execution_count": null,
   "metadata": {},
   "outputs": [],
   "source": [
    "#####################################################\n",
    "### Create Correlation Matrices for all Runs      ###\n",
    "#####################################################\n",
    "\n",
    "atlas = 'brainnetome' # 'brainnetome' 'Schaefer400node'\n",
    "\n",
    "for sub in get_sublist(baseDir):\n",
    "#     print(sub)\n",
    "    for run in ['001', '002']:\n",
    "        tsFile = pd.read_csv('%s/sub-%s/sub-%s_task-rest_run-%s_space-MNI152NLin2009cAsym_desc-residuals_variant-24p_Acc6_009_1_%s_TS.csv' %(baseDir, sub, sub, run, atlas), sep = ',', header = None).values\n",
    "        corrmat = np.corrcoef(tsFile.T)\n",
    "#         np.save('%s/sub-%s/sub-%s_task-rest_run-%s_space-MNI152NLin2009cAsym_desc-residuals_variant-24p_Acc6_009_1_%s_corrmat.npy' %(baseDir, sub, sub, run, atlas), corrmat)\n"
   ]
  },
  {
   "cell_type": "code",
   "execution_count": null,
   "metadata": {},
   "outputs": [],
   "source": [
    "#######################################################################\n",
    "### Create Correlation Matrices from the concatenation of both runs ###\n",
    "#######################################################################\n",
    "\n",
    "atlas = 'brainnetome' # 'brainnetome' 'Schaefer400node'\n",
    "\n",
    "for sub in ['001']:#get_sublist(baseDir):\n",
    "    tsFile_1 = pd.read_csv('%s/sub-%s/sub-%s_task-rest_run-001_space-MNI152NLin2009cAsym_desc-residuals_variant-24p_Acc6_009_1_%s_TS.csv' %(baseDir, sub, sub, atlas), sep = ',', header = None).values\n",
    "    tsFile_2 = pd.read_csv('%s/sub-%s/sub-%s_task-rest_run-002_space-MNI152NLin2009cAsym_desc-residuals_variant-24p_Acc6_009_1_%s_TS.csv' %(baseDir, sub, sub, atlas), sep = ',', header = None).values\n",
    "    ts_concat = np.vstack((tsFile_1, tsFile_2))\n",
    "    corrmat = np.corrcoef(ts_concat.T)\n",
    "#     np.save('%s/sub-%s/sub-%s_task-rest_run-CONCAT_space-MNI152NLin2009cAsym_desc-residuals_variant-24p_Acc6_009_1_%s_corrmat.npy' %(baseDir, sub, sub, atlas), corrmat)\n"
   ]
  },
  {
   "cell_type": "code",
   "execution_count": null,
   "metadata": {},
   "outputs": [],
   "source": []
  },
  {
   "cell_type": "code",
   "execution_count": null,
   "metadata": {},
   "outputs": [],
   "source": [
    "##############################################################################\n",
    "### Determine similarity between correlation matrices from Run 1 and Run 2 ###\n",
    "##############################################################################\n",
    "\n",
    "atlas = 'brainnetome' # 'brainnetome' 'Schaefer400node'\n",
    "\n",
    "corrVals = np.ones((len(get_sublist(baseDir))))*np.nan\n",
    "\n",
    "for idx, sub in enumerate(get_sublist(baseDir)):\n",
    "    run1 = np.load('%s/sub-%s/sub-%s_task-rest_run-001_space-MNI152NLin2009cAsym_desc-residuals_variant-24p_Acc6_009_1_%s_corrmat.npy' %(baseDir, sub, sub, atlas))\n",
    "    run2 = np.load('%s/sub-%s/sub-%s_task-rest_run-002_space-MNI152NLin2009cAsym_desc-residuals_variant-24p_Acc6_009_1_%s_corrmat.npy' %(baseDir, sub, sub, atlas))\n",
    "    corrVals[idx] = np.corrcoef(np.ravel(run1), np.ravel(run2))[0,1]\n",
    "    \n",
    "plt.hist(corrVals, 15)"
   ]
  },
  {
   "cell_type": "code",
   "execution_count": null,
   "metadata": {},
   "outputs": [],
   "source": []
  },
  {
   "cell_type": "code",
   "execution_count": null,
   "metadata": {},
   "outputs": [],
   "source": [
    "#######################################################################\n",
    "### Average together the two correlation matrices and save them out ###\n",
    "#######################################################################\n",
    "\n",
    "atlas = 'brainnetome' # 'brainnetome' 'Schaefer400node'\n",
    "\n",
    "for idx, sub in enumerate(get_sublist(baseDir)):\n",
    "#     print(sub)\n",
    "    run1 = np.load('%s/sub-%s/sub-%s_task-rest_run-001_space-MNI152NLin2009cAsym_desc-residuals_variant-24p_Acc6_009_1_%s_corrmat.npy' %(baseDir, sub, sub, atlas))\n",
    "    run2 = np.load('%s/sub-%s/sub-%s_task-rest_run-002_space-MNI152NLin2009cAsym_desc-residuals_variant-24p_Acc6_009_1_%s_corrmat.npy' %(baseDir, sub, sub, atlas))\n",
    "    \n",
    "    avg_mat = np.divide(np.add(run1,run2),2)\n",
    "    \n",
    "#     np.save('%s/sub-%s/sub-%s_task-rest_run-BOTH_space-MNI152NLin2009cAsym_desc-residuals_variant-24p_Acc6_009_1_%s_mean_corrmat.npy' %(baseDir, sub, sub, atlas), avg_mat)    "
   ]
  }
 ],
 "metadata": {
  "kernelspec": {
   "display_name": "Python 3",
   "language": "python",
   "name": "python3"
  },
  "language_info": {
   "codemirror_mode": {
    "name": "ipython",
    "version": 3
   },
   "file_extension": ".py",
   "mimetype": "text/x-python",
   "name": "python",
   "nbconvert_exporter": "python",
   "pygments_lexer": "ipython3",
   "version": "3.7.7"
  }
 },
 "nbformat": 4,
 "nbformat_minor": 2
}
